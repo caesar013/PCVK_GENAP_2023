{
  "nbformat": 4,
  "nbformat_minor": 0,
  "metadata": {
    "colab": {
      "provenance": [],
      "authorship_tag": "ABX9TyMnsJYTpMU9xV+wlqvXPEYT",
      "include_colab_link": true
    },
    "kernelspec": {
      "name": "python3",
      "display_name": "Python 3"
    },
    "language_info": {
      "name": "python"
    }
  },
  "cells": [
    {
      "cell_type": "markdown",
      "metadata": {
        "id": "view-in-github",
        "colab_type": "text"
      },
      "source": [
        "<a href=\"https://colab.research.google.com/github/caesar013/PCVK_GENAP_2023/blob/main/Week7.ipynb\" target=\"_parent\"><img src=\"https://colab.research.google.com/assets/colab-badge.svg\" alt=\"Open In Colab\"/></a>"
      ]
    },
    {
      "cell_type": "code",
      "execution_count": 1,
      "metadata": {
        "colab": {
          "base_uri": "https://localhost:8080/"
        },
        "id": "hJADdcGD5Fkq",
        "outputId": "4ac95b36-bfe0-4c73-dc37-3a54e54b71c0"
      },
      "outputs": [
        {
          "output_type": "stream",
          "name": "stdout",
          "text": [
            "Mounted at /content/drive\n"
          ]
        }
      ],
      "source": [
        "from google.colab import drive\n",
        "\n",
        "drive.mount('/content/drive', force_remount=True)"
      ]
    },
    {
      "cell_type": "code",
      "source": [
        "import numpy as np\n",
        "import matplotlib.pyplot as plt\n",
        "import cv2 as cv\n",
        "import math\n",
        "from google.colab.patches import cv2_imshow\n",
        "from PIL import Image as im"
      ],
      "metadata": {
        "id": "NAKAjPtU6hdz"
      },
      "execution_count": 2,
      "outputs": []
    },
    {
      "cell_type": "code",
      "source": [
        "def convolution(image, kernel):\n",
        "    image_height, image_width = image.shape\n",
        "    kernel_height, kernel_width = kernel.shape\n",
        "\n",
        "    # Hitung padding untuk menjaga ukuran citra output\n",
        "    padding_vertical = kernel_height // 2\n",
        "    padding_horizontal = kernel_width // 2\n",
        "\n",
        "    # Buat citra output dengan ukuran yang sama dengan citra input\n",
        "    output_image = np.zeros_like(image)\n",
        "\n",
        "    # Tambahkan padding ke citra input\n",
        "    padded_image = np.pad(image, ((padding_vertical, padding_vertical), (padding_horizontal, padding_horizontal)), mode='constant')\n",
        "\n",
        "    # Lakukan operasi konvolusi\n",
        "    for i in range(image_height):\n",
        "        for j in range(image_width):\n",
        "            output_image[i, j] = np.sum(padded_image[i:i+kernel_height, j:j+kernel_width] * kernel)\n",
        "\n",
        "    return output_image\n",
        "\n",
        "# Contoh penggunaan fungsi konvolusi\n",
        "image = np.array([[1, 2, 3],\n",
        "                  [4, 5, 6],\n",
        "                  [7, 8, 9]])\n",
        "\n",
        "kernel = np.array([[1, 0, -1],\n",
        "                   [1, 0, -1],\n",
        "                   [1, 0, -1]])\n",
        "\n",
        "result = convolution(image, kernel)\n",
        "print(result)\n"
      ],
      "metadata": {
        "id": "zqNLePvv6xAf"
      },
      "execution_count": null,
      "outputs": []
    }
  ]
}